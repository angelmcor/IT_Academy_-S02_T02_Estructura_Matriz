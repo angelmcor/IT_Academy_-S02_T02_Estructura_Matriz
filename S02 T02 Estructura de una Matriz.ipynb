{
 "cells": [
  {
   "cell_type": "markdown",
   "id": "0d3d41fd",
   "metadata": {},
   "source": [
    "#### Ángel Martínez\n",
    "\n",
    "# S02 T02 Estructura de una Matriz\n",
    "\n",
    "## Nivel 1\n",
    "\n",
    "### Exercici 1\n",
    "\n",
    "#### Crea un np.array d'una dimensió, que inclogui l'almenys 8 nombres sencers, data type int64. Mostra la dimensió i la forma de la matriu."
   ]
  },
  {
   "cell_type": "code",
   "execution_count": 54,
   "id": "35501c3f",
   "metadata": {},
   "outputs": [],
   "source": [
    "import numpy as np"
   ]
  },
  {
   "cell_type": "code",
   "execution_count": 55,
   "id": "3ec0c21b",
   "metadata": {},
   "outputs": [],
   "source": [
    "A = np.array([1000000000, 7000000000, 4000000000, 5000000000, 8000000000, 9000000000, 7000000000, 6000000000])"
   ]
  },
  {
   "cell_type": "code",
   "execution_count": 56,
   "id": "d3789407",
   "metadata": {},
   "outputs": [
    {
     "name": "stdout",
     "output_type": "stream",
     "text": [
      "[1000000000 7000000000 4000000000 5000000000 8000000000 9000000000\n",
      " 7000000000 6000000000]\n"
     ]
    }
   ],
   "source": [
    "print(A)"
   ]
  },
  {
   "cell_type": "code",
   "execution_count": 57,
   "id": "4095afa6",
   "metadata": {},
   "outputs": [
    {
     "data": {
      "text/plain": [
       "dtype('int64')"
      ]
     },
     "execution_count": 57,
     "metadata": {},
     "output_type": "execute_result"
    }
   ],
   "source": [
    "A.dtype"
   ]
  },
  {
   "cell_type": "code",
   "execution_count": 58,
   "id": "1ac4c12e",
   "metadata": {},
   "outputs": [
    {
     "name": "stdout",
     "output_type": "stream",
     "text": [
      "La dimensión de la matriz 'A' es: 1\n"
     ]
    }
   ],
   "source": [
    "print(\"La dimensión de la matriz 'A' es:\", A.ndim)"
   ]
  },
  {
   "cell_type": "code",
   "execution_count": 59,
   "id": "8d4f149a",
   "metadata": {},
   "outputs": [
    {
     "name": "stdout",
     "output_type": "stream",
     "text": [
      "La forma de la matriz 'A' es: (8,)\n"
     ]
    }
   ],
   "source": [
    "print(\"La forma de la matriz 'A' es:\", A.shape)"
   ]
  },
  {
   "cell_type": "markdown",
   "id": "126151bb",
   "metadata": {},
   "source": [
    "### Exercici 2\n",
    "\n",
    "#### De la matriu de l'exercici 1, calcula el valor mitjà dels valors introduïts."
   ]
  },
  {
   "cell_type": "code",
   "execution_count": 60,
   "id": "3c16c5de",
   "metadata": {},
   "outputs": [
    {
     "name": "stdout",
     "output_type": "stream",
     "text": [
      "La media del Array 'A' es: 5875000000.0\n"
     ]
    }
   ],
   "source": [
    "media_A = np.mean(A)\n",
    "print(\"La media del Array 'A' es:\", media_A)"
   ]
  },
  {
   "cell_type": "markdown",
   "id": "fbecfb08",
   "metadata": {},
   "source": [
    "### Exercici 3\n",
    "\n",
    "#### Crea una matriu bidimensional amb una forma de 5 x 5. Extreu el valor màxim de la matriu, i els valors màxims de cadascun dels seus eixos."
   ]
  },
  {
   "cell_type": "code",
   "execution_count": 61,
   "id": "98874aeb",
   "metadata": {},
   "outputs": [
    {
     "name": "stdout",
     "output_type": "stream",
     "text": [
      "La matriz B es la siguiente\n",
      "\n",
      "[[29 42 17  2 10]\n",
      " [ 4 87  9 14 42]\n",
      " [ 2 40 76 94 36]\n",
      " [43  6 26 74 81]\n",
      " [17 37 52 98 73]]\n",
      "\n",
      "Las dimensiones de la matriz B son: 2\n"
     ]
    }
   ],
   "source": [
    "print(\"La matriz B es la siguiente\")\n",
    "B = np.random.randint(0, 100, (5,5))\n",
    "print()\n",
    "print(B)\n",
    "print()\n",
    "print(\"Las dimensiones de la matriz B son:\", B.ndim)"
   ]
  },
  {
   "cell_type": "code",
   "execution_count": 62,
   "id": "c15dbbd8",
   "metadata": {},
   "outputs": [
    {
     "name": "stdout",
     "output_type": "stream",
     "text": [
      "El valor máximo de la matriz completa es: 98\n",
      "\n",
      "Los valores máximos de cada fila son:\n",
      "\n",
      "En la fila 1 : 42\n",
      "En la fila 2 : 87\n",
      "En la fila 3 : 94\n",
      "En la fila 4 : 81\n",
      "En la fila 5 : 98\n",
      "\n",
      "Los valores máximos de cada columna son:\n",
      "\n",
      "En la columna 1 : 43\n",
      "En la columna 2 : 87\n",
      "En la columna 3 : 76\n",
      "En la columna 4 : 98\n",
      "En la columna 5 : 81\n"
     ]
    }
   ],
   "source": [
    "#Extraer el valor máximo de la matriz completa\n",
    "\n",
    "max_value = np.max(B)\n",
    "print(\"El valor máximo de la matriz completa es:\", max_value)\n",
    "print()\n",
    "\n",
    "#Extraer el valor máximo de cada una de las filas\n",
    "\n",
    "print(\"Los valores máximos de cada fila son:\")\n",
    "print()\n",
    "\n",
    "numFila = 1\n",
    "\n",
    "for max_value_row in np.max(B, axis=1):\n",
    "    print(\"En la fila\", numFila, \":\", max_value_row)\n",
    "    numFila += 1\n",
    "\n",
    "#Extraer el valor máximo de cada una de las columnas\n",
    "\n",
    "print()\n",
    "print(\"Los valores máximos de cada columna son:\")\n",
    "print()\n",
    "\n",
    "numColumna = 1\n",
    "\n",
    "for max_value_column in np.max(B, axis=0):\n",
    "    print(\"En la columna\", numColumna, \":\", max_value_column)\n",
    "    numColumna += 1"
   ]
  }
 ],
 "metadata": {
  "kernelspec": {
   "display_name": "Python 3 (ipykernel)",
   "language": "python",
   "name": "python3"
  },
  "language_info": {
   "codemirror_mode": {
    "name": "ipython",
    "version": 3
   },
   "file_extension": ".py",
   "mimetype": "text/x-python",
   "name": "python",
   "nbconvert_exporter": "python",
   "pygments_lexer": "ipython3",
   "version": "3.9.7"
  }
 },
 "nbformat": 4,
 "nbformat_minor": 5
}
